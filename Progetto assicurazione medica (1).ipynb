{
 "cells": [
  {
   "cell_type": "markdown",
   "id": "17c81290",
   "metadata": {},
   "source": [
    "# Introduzione\n",
    "\n",
    "\n",
    "Stimiamo i costi dell'assicurazione medica per due persone, Giovanna e Gabriel, sulla base di cinque variabili:\n",
    "\n",
    "* age: età dell'individuo in anni\n",
    "* sex: 0 per la femmina, 1 per il maschio\n",
    "* bmi: indice di massa corporea dell'individuo\n",
    "* num_of_children: numero di figli che l'individuo ha\n",
    "* smoker: 0 per non fumatore, 1 per fumatore\n",
    "\n",
    "La formula che si userà per calcolare il costo dell'assicurazione è: 250∗age − 128∗sex +370∗bmi + 425∗num_of_children +24000∗smokerfumatore − 12500"
   ]
  },
  {
   "cell_type": "markdown",
   "id": "d3b24ee5",
   "metadata": {},
   "source": [
    "## Creazione funzione di calcolo"
   ]
  },
  {
   "cell_type": "code",
   "execution_count": 6,
   "id": "7d143a57",
   "metadata": {},
   "outputs": [],
   "source": [
    "def calculate_insurance_cost(age, sex, bmi, num_of_children, smoker):\n",
    "  estimated_cost = 250*age - 128*sex + 370*bmi + 425*num_of_children + 24000*smoker - 12500\n",
    "  print(\"The estimated insurance cost is \" + str(estimated_cost) + \" dollars.\")\n",
    "  return estimated_cost"
   ]
  },
  {
   "cell_type": "markdown",
   "id": "3f833cdb",
   "metadata": {},
   "source": [
    "### Calcolo assicurazione Giovanna e Gabriel"
   ]
  },
  {
   "cell_type": "code",
   "execution_count": 21,
   "id": "6a90177a",
   "metadata": {},
   "outputs": [
    {
     "ename": "TypeError",
     "evalue": "calculate_insurance_cost() missing 1 required positional argument: 'name'",
     "output_type": "error",
     "traceback": [
      "\u001b[1;31m---------------------------------------------------------------------------\u001b[0m",
      "\u001b[1;31mTypeError\u001b[0m                                 Traceback (most recent call last)",
      "Input \u001b[1;32mIn [21]\u001b[0m, in \u001b[0;36m<cell line: 1>\u001b[1;34m()\u001b[0m\n\u001b[1;32m----> 1\u001b[0m Giovanna_insurance_cost \u001b[38;5;241m=\u001b[39m \u001b[43mcalculate_insurance_cost\u001b[49m\u001b[43m(\u001b[49m\u001b[43mage\u001b[49m\u001b[43m \u001b[49m\u001b[38;5;241;43m=\u001b[39;49m\u001b[43m \u001b[49m\u001b[38;5;241;43m28\u001b[39;49m\u001b[43m,\u001b[49m\u001b[43m \u001b[49m\u001b[43msex\u001b[49m\u001b[43m \u001b[49m\u001b[38;5;241;43m=\u001b[39;49m\u001b[43m \u001b[49m\u001b[38;5;241;43m0\u001b[39;49m\u001b[43m,\u001b[49m\u001b[43m \u001b[49m\u001b[43mbmi\u001b[49m\u001b[43m \u001b[49m\u001b[38;5;241;43m=\u001b[39;49m\u001b[43m \u001b[49m\u001b[38;5;241;43m26.2\u001b[39;49m\u001b[43m,\u001b[49m\u001b[43m \u001b[49m\u001b[43mnum_of_children\u001b[49m\u001b[43m \u001b[49m\u001b[38;5;241;43m=\u001b[39;49m\u001b[43m \u001b[49m\u001b[38;5;241;43m3\u001b[39;49m\u001b[43m,\u001b[49m\u001b[43m \u001b[49m\u001b[43msmoker\u001b[49m\u001b[43m \u001b[49m\u001b[38;5;241;43m=\u001b[39;49m\u001b[43m \u001b[49m\u001b[38;5;241;43m0\u001b[39;49m\u001b[43m)\u001b[49m\n\u001b[0;32m      3\u001b[0m Gabriel_insurance_cost \u001b[38;5;241m=\u001b[39m calculate_insurance_cost(age \u001b[38;5;241m=\u001b[39m \u001b[38;5;241m35\u001b[39m, sex \u001b[38;5;241m=\u001b[39m \u001b[38;5;241m1\u001b[39m, bmi \u001b[38;5;241m=\u001b[39m \u001b[38;5;241m22.2\u001b[39m, num_of_children \u001b[38;5;241m=\u001b[39m \u001b[38;5;241m0\u001b[39m, smoker \u001b[38;5;241m=\u001b[39m \u001b[38;5;241m1\u001b[39m)\n",
      "\u001b[1;31mTypeError\u001b[0m: calculate_insurance_cost() missing 1 required positional argument: 'name'"
     ]
    }
   ],
   "source": [
    "Giovanna_insurance_cost = calculate_insurance_cost(age = 28, sex = 0, bmi = 26.2, num_of_children = 3, smoker = 0)\n",
    "\n",
    "Gabriel_insurance_cost = calculate_insurance_cost(age = 35, sex = 1, bmi = 22.2, num_of_children = 0, smoker = 1)"
   ]
  },
  {
   "cell_type": "code",
   "execution_count": 10,
   "id": "319d1e32",
   "metadata": {},
   "outputs": [
    {
     "name": "stdout",
     "output_type": "stream",
     "text": [
      "The estimated insurance cost is 28336.0 dollars.\n"
     ]
    }
   ],
   "source": [
    "Gabriel_insurance_cost = calculate_insurance_cost(age = 35, sex = 1, bmi = 22.2, num_of_children = 0, smoker = 1)"
   ]
  },
  {
   "cell_type": "markdown",
   "id": "07189c93",
   "metadata": {},
   "source": [
    "## Personalizzazione messaggio di assicurazione "
   ]
  },
  {
   "cell_type": "markdown",
   "id": "ed7dbf62",
   "metadata": {},
   "source": [
    "Aggiungiamo il nome nel messaggio. Procediamo inserendo una nuovo parametro nella nostra funzione di calcolo. "
   ]
  },
  {
   "cell_type": "code",
   "execution_count": 11,
   "id": "6afebed1",
   "metadata": {},
   "outputs": [
    {
     "name": "stdout",
     "output_type": "stream",
     "text": [
      "The estimated insurance cost for Giovanna is 5469.0 dollars.\n",
      "The estimated insurance cost for Gabriel is 28336.0 dollars.\n"
     ]
    }
   ],
   "source": [
    "def calculate_insurance_cost(name, age, sex, bmi, num_of_children, smoker):\n",
    "  estimated_cost = 250*age - 128*sex + 370*bmi + 425*num_of_children + 24000*smoker - 12500\n",
    "  print(\"The estimated insurance cost for \" + name + \" is \" + str(estimated_cost) + \" dollars.\")\n",
    "  return estimated_cost\n",
    "\n",
    "\n",
    "Giovanna_insurance_cost = calculate_insurance_cost(name = \"Giovanna\", age = 28, sex = 0, bmi = 26.2, num_of_children = 3, smoker = 0)\n",
    "\n",
    "Gabriel_insurance_cost = calculate_insurance_cost(name = \"Gabriel\", age = 35, sex = 1, bmi = 22.2, num_of_children = 0, smoker = 1)"
   ]
  },
  {
   "cell_type": "markdown",
   "id": "85eb30cf",
   "metadata": {},
   "source": [
    "Creiamo degli avvisi ulteriori per l'utente. Per farlo creiamo due nuove funzioni \n",
    "\n",
    "1. Avviso fumatore\n",
    "2. Avviso bmi"
   ]
  },
  {
   "cell_type": "code",
   "execution_count": 18,
   "id": "828e061d",
   "metadata": {},
   "outputs": [],
   "source": [
    "def analyze_smoker(smoker_status):\n",
    "  if smoker_status == 1:\n",
    "    print(\"To lower your cost, you should consider quitting smoking.\")\n",
    "  else:\n",
    "    print(\"Smoking is not an issue for you.\")\n",
    "    \n",
    "    \n",
    "    "
   ]
  },
  {
   "cell_type": "markdown",
   "id": "f5c76860",
   "metadata": {},
   "source": [
    "Modifichiamo leggermente la nostra funzione di calcolo: "
   ]
  },
  {
   "cell_type": "code",
   "execution_count": 20,
   "id": "d9be8f21",
   "metadata": {},
   "outputs": [
    {
     "name": "stdout",
     "output_type": "stream",
     "text": [
      "Giovanna's Estimated Insurance Cost: 5469.0 dollars.\n",
      "Smoking is not an issue for you.\n",
      "Your BMI is in the overweight range. To lower your cost, you should lower your BMI.\n",
      "Gabriel's Estimated Insurance Cost: 28336.0 dollars.\n",
      "To lower your cost, you should consider quitting smoking.\n",
      "Your BMI is in a healthy range.\n"
     ]
    }
   ],
   "source": [
    "def calculate_insurance_cost(name, age, sex, bmi, num_of_children, smoker):\n",
    "  estimated_cost = 250*age - 128*sex + 370*bmi + 425*num_of_children + 24000*smoker - 12500\n",
    "  print(name + \"'s Estimated Insurance Cost: \" + str(estimated_cost) + \" dollars.\")\n",
    "  analyze_smoker(smoker)\n",
    "  analyze_bmi(bmi)\n",
    "  return estimated_cost\n",
    "\n",
    "Giovanna_insurance_cost = calculate_insurance_cost(name = \"Giovanna\", age = 28, sex = 0, bmi = 26.2, num_of_children = 3, smoker = 0)\n",
    "\n",
    "Gabriel_insurance_cost = calculate_insurance_cost(name = \"Gabriel\", age = 35, sex = 1, bmi = 22.2, num_of_children = 0, smoker = 1)"
   ]
  },
  {
   "cell_type": "code",
   "execution_count": null,
   "id": "2ae52ca3",
   "metadata": {},
   "outputs": [],
   "source": []
  }
 ],
 "metadata": {
  "celltoolbar": "Tags",
  "kernelspec": {
   "display_name": "Python 3 (ipykernel)",
   "language": "python",
   "name": "python3"
  },
  "language_info": {
   "codemirror_mode": {
    "name": "ipython",
    "version": 3
   },
   "file_extension": ".py",
   "mimetype": "text/x-python",
   "name": "python",
   "nbconvert_exporter": "python",
   "pygments_lexer": "ipython3",
   "version": "3.9.12"
  }
 },
 "nbformat": 4,
 "nbformat_minor": 5
}
